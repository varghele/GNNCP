{
 "cells": [
  {
   "cell_type": "markdown",
   "id": "6e6d2bbc-8e7d-46f8-8ef5-ed5ec5f7f7a0",
   "metadata": {},
   "source": [
    "# Requirements:\n",
    "- openpathsampling\n",
    "- mdtraj\n",
    "- openmm (only for MD-simulations, so probably not needed, but maybe for loading the openpathsampling storages since the snapshots 'know' about their engine)\n",
    "\n",
    "Something like the following should do the trick:\n",
    "```bash\n",
    "conda create -n $NAME -c conda-forge openpathsampling mdtraj openmm\n",
    "```"
   ]
  },
  {
   "cell_type": "code",
   "execution_count": 2,
   "id": "3d394e68-254c-44e8-9947-4694a937a1c0",
   "metadata": {},
   "outputs": [],
   "source": [
    "%matplotlib inline"
   ]
  },
  {
   "cell_type": "code",
   "execution_count": 4,
   "id": "b68d0f2b-5689-45e6-8108-afced7a5acb0",
   "metadata": {},
   "outputs": [],
   "source": [
    "import os\n",
    "#import aimmd\n",
    "import numpy as np\n",
    "import mdtraj as mdt\n",
    "import openpathsampling as paths\n",
    "import matplotlib.pyplot as plt"
   ]
  },
  {
   "cell_type": "markdown",
   "id": "d1472048-3dd7-433d-86f3-7a36bae118f2",
   "metadata": {},
   "source": [
    "## open the committor simulation storage(s)"
   ]
  },
  {
   "cell_type": "code",
   "execution_count": 5,
   "id": "7544b162-ac10-490c-8277-b9274431d7c6",
   "metadata": {},
   "outputs": [],
   "source": [
    "fname = \"committor_simulation_SPs_from_run1_results_only.nc\""
   ]
  },
  {
   "cell_type": "code",
   "execution_count": 8,
   "id": "56b0169b-55e7-4cfb-a378-7303afe8d6d1",
   "metadata": {},
   "outputs": [],
   "source": [
    "storage = paths.Storage(fname, mode=\"r\")"
   ]
  },
  {
   "cell_type": "code",
   "execution_count": 12,
   "id": "038cb83e-c229-4792-9482-3b706b4f13d3",
   "metadata": {},
   "outputs": [
    {
     "data": {
      "text/plain": [
       "dict_keys(['SPs_to_test', 'counts_reached_bound', 'counts_reached_unbound', 'shooting_results'])"
      ]
     },
     "execution_count": 12,
     "metadata": {},
     "output_type": "execute_result"
    }
   ],
   "source": [
    "storage.tags.keys()"
   ]
  },
  {
   "cell_type": "code",
   "execution_count": 14,
   "id": "b3a77c24-a5ad-4da4-8ede-2c1255d790ca",
   "metadata": {},
   "outputs": [],
   "source": [
    "sps = storage.tags[\"SPs_to_test\"]  # sps is a list of openpathsampling snapshots\n",
    "shooting_results = storage.tags[\"shooting_results\"]  # shooting_results is a np.ndarray, shape=(n_points, 2)"
   ]
  },
  {
   "cell_type": "code",
   "execution_count": 15,
   "id": "37d72ace-b6bd-4caa-a25d-d5dfbd721945",
   "metadata": {},
   "outputs": [],
   "source": [
    "sp0 = sps[0]"
   ]
  },
  {
   "cell_type": "code",
   "execution_count": 16,
   "id": "1c27e0d3-6e75-44a4-b72a-250363145cee",
   "metadata": {},
   "outputs": [
    {
     "name": "stdout",
     "output_type": "stream",
     "text": [
      "<openpathsampling.engines.openmm.snapshot.Snapshot object at 0x7feb07695250>\n"
     ]
    }
   ],
   "source": [
    "print(sp0)"
   ]
  },
  {
   "cell_type": "code",
   "execution_count": 19,
   "id": "bc7cc4ba-6e77-43b6-be3e-01f2eece15a5",
   "metadata": {},
   "outputs": [
    {
     "data": {
      "text/plain": [
       "<mdtraj.Topology with 3 chains, 372 residues, 1112 atoms, 740 bonds at 0x7feb042f44d0>"
      ]
     },
     "execution_count": 19,
     "metadata": {},
     "output_type": "execute_result"
    }
   ],
   "source": [
    "sp0.topology.mdtraj # possible to access the mdtraj topology directly"
   ]
  },
  {
   "cell_type": "markdown",
   "id": "8d6a9565-11bf-43d0-8f9d-5783c7869570",
   "metadata": {},
   "source": [
    "## also possible to convert to mdtraj trajectories"
   ]
  },
  {
   "cell_type": "code",
   "execution_count": 20,
   "id": "2d844117-6b8c-4c8a-9bf1-c0959099b9ef",
   "metadata": {},
   "outputs": [],
   "source": [
    "ops_traj = paths.Trajectory([sp0])  # need a trajectory for conversion, but this can be initialized from any list of snapshots\n",
    "mdt_traj = ops_traj.to_mdtraj()"
   ]
  },
  {
   "cell_type": "code",
   "execution_count": 21,
   "id": "90d194f6-a4b0-4998-a384-c634b530c991",
   "metadata": {},
   "outputs": [
    {
     "name": "stdout",
     "output_type": "stream",
     "text": [
      "<mdtraj.Trajectory with 1 frames, 1112 atoms, 372 residues, and unitcells>\n"
     ]
    }
   ],
   "source": [
    "print(mdt_traj)"
   ]
  },
  {
   "cell_type": "code",
   "execution_count": 22,
   "id": "7163620b-64d9-4802-a054-775d1516268c",
   "metadata": {},
   "outputs": [],
   "source": [
    "storage.close()"
   ]
  },
  {
   "cell_type": "code",
   "execution_count": null,
   "id": "2b1618b8-20b8-4ca2-8bcc-10022dfbd22d",
   "metadata": {},
   "outputs": [],
   "source": []
  }
 ],
 "metadata": {
  "kernelspec": {
   "display_name": "AIMMD Ion TPS (py3)",
   "language": "python",
   "name": "aimmd_ion_tps"
  },
  "language_info": {
   "codemirror_mode": {
    "name": "ipython",
    "version": 3
   },
   "file_extension": ".py",
   "mimetype": "text/x-python",
   "name": "python",
   "nbconvert_exporter": "python",
   "pygments_lexer": "ipython3",
   "version": "3.7.10"
  }
 },
 "nbformat": 4,
 "nbformat_minor": 5
}
